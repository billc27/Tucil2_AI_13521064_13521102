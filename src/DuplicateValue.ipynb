{
 "cells": [
  {
   "cell_type": "code",
   "execution_count": 5,
   "metadata": {},
   "outputs": [],
   "source": [
    "# Import library pandas\n",
    "import pandas as pd\n",
    "\n",
    "# Read csv file\n",
    "df = pd.read_csv(\"../data/data_train.csv\")\n",
    "\n",
    "def print_duplicate_values(dataframe):\n",
    "    print(\"====================o====================\")\n",
    "    print(f\"Duplicate Values in Data Train\")\n",
    "    print(\"====================o====================\")\n",
    "\n",
    "    # Find duplicate values in a specific column\n",
    "    duplicate_values = dataframe[dataframe.duplicated()]\n",
    "    print(duplicate_values)\n",
    "    print(\"Number of duplicate values:\", duplicate_values.shape[0])"
   ]
  },
  {
   "cell_type": "markdown",
   "metadata": {},
   "source": [
    "DUPLICATE VALUE"
   ]
  },
  {
   "cell_type": "code",
   "execution_count": 6,
   "metadata": {},
   "outputs": [
    {
     "name": "stdout",
     "output_type": "stream",
     "text": [
      "====================o====================\n",
      "Duplicate Values in Data Train\n",
      "====================o====================\n",
      "Empty DataFrame\n",
      "Columns: [battery_power, blue, clock_speed, dual_sim, fc, four_g, int_memory, m_dep, mobile_wt, n_cores, pc, px_height, px_width, ram, sc_h, sc_w, talk_time, three_g, touch_screen, wifi, price_range]\n",
      "Index: []\n",
      "\n",
      "[0 rows x 21 columns]\n",
      "Number of duplicate values: 0\n"
     ]
    }
   ],
   "source": [
    "print_duplicate_values(df)"
   ]
  }
 ],
 "metadata": {
  "kernelspec": {
   "display_name": "Python 3",
   "language": "python",
   "name": "python3"
  },
  "language_info": {
   "codemirror_mode": {
    "name": "ipython",
    "version": 3
   },
   "file_extension": ".py",
   "mimetype": "text/x-python",
   "name": "python",
   "nbconvert_exporter": "python",
   "pygments_lexer": "ipython3",
   "version": "3.10.6"
  }
 },
 "nbformat": 4,
 "nbformat_minor": 2
}
