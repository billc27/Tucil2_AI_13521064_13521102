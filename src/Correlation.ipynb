{
 "cells": [
  {
   "cell_type": "code",
   "execution_count": 5,
   "metadata": {},
   "outputs": [],
   "source": [
    "# Import library pandas\n",
    "import pandas as pd\n",
    "\n",
    "# Read csv file\n",
    "df = pd.read_csv(\"../data/data_train.csv\")\n",
    "\n",
    "def calculate_correlations(df, specific_column):\n",
    "    for column in df.columns:\n",
    "        if column != specific_column:\n",
    "            correlation = df[column].corr(df[specific_column])\n",
    "            print(f\"Korelasi antara {column} dan {specific_column} adalah: {correlation}\\n\\n\")\n"
   ]
  },
  {
   "cell_type": "code",
   "execution_count": 6,
   "metadata": {},
   "outputs": [
    {
     "name": "stdout",
     "output_type": "stream",
     "text": [
      "Korelasi antara battery_power dan price_range adalah: 0.18480092449553107\n",
      "\n",
      "\n",
      "Korelasi antara blue dan price_range adalah: 0.04194688860741444\n",
      "\n",
      "\n",
      "Korelasi antara clock_speed dan price_range adalah: 0.014031254818008081\n",
      "\n",
      "\n",
      "Korelasi antara dual_sim dan price_range adalah: -0.010756163737641038\n",
      "\n",
      "\n",
      "Korelasi antara fc dan price_range adalah: -0.0038420102981917433\n",
      "\n",
      "\n",
      "Korelasi antara four_g dan price_range adalah: 0.0005508484718002986\n",
      "\n",
      "\n",
      "Korelasi antara int_memory dan price_range adalah: 0.02617570687784163\n",
      "\n",
      "\n",
      "Korelasi antara m_dep dan price_range adalah: 0.0012049180209845712\n",
      "\n",
      "\n",
      "Korelasi antara mobile_wt dan price_range adalah: -0.07476875048323675\n",
      "\n",
      "\n",
      "Korelasi antara n_cores dan price_range adalah: -0.0005823306285452556\n",
      "\n",
      "\n",
      "Korelasi antara pc dan price_range adalah: -0.005214430491653004\n",
      "\n",
      "\n",
      "Korelasi antara px_height dan price_range adalah: 0.15883273548307994\n",
      "\n",
      "\n",
      "Korelasi antara px_width dan price_range adalah: 0.17871269011026594\n",
      "\n",
      "\n",
      "Korelasi antara ram dan price_range adalah: 0.9183192307843853\n",
      "\n",
      "\n",
      "Korelasi antara sc_h dan price_range adalah: 0.012148883173075014\n",
      "\n",
      "\n",
      "Korelasi antara sc_w dan price_range adalah: 0.01991169881036506\n",
      "\n",
      "\n",
      "Korelasi antara talk_time dan price_range adalah: 0.011112731754754954\n",
      "\n",
      "\n",
      "Korelasi antara three_g dan price_range adalah: 0.02709762831217486\n",
      "\n",
      "\n",
      "Korelasi antara touch_screen dan price_range adalah: -0.029842480103711932\n",
      "\n",
      "\n",
      "Korelasi antara wifi dan price_range adalah: 0.03432935762117301\n",
      "\n",
      "\n"
     ]
    }
   ],
   "source": [
    "calculate_correlations(df, \"price_range\")"
   ]
  }
 ],
 "metadata": {
  "kernelspec": {
   "display_name": "Python 3",
   "language": "python",
   "name": "python3"
  },
  "language_info": {
   "codemirror_mode": {
    "name": "ipython",
    "version": 3
   },
   "file_extension": ".py",
   "mimetype": "text/x-python",
   "name": "python",
   "nbconvert_exporter": "python",
   "pygments_lexer": "ipython3",
   "version": "3.10.6"
  }
 },
 "nbformat": 4,
 "nbformat_minor": 2
}
